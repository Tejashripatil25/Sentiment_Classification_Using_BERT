{
 "cells": [
  {
   "cell_type": "code",
   "execution_count": 2,
   "id": "9a7119c7",
   "metadata": {},
   "outputs": [
    {
     "name": "stdout",
     "output_type": "stream",
     "text": [
      "C:\\Users\\Admin\\anaconda3\\python.exe\n"
     ]
    }
   ],
   "source": [
    "import sys\n",
    "print(sys.executable)"
   ]
  },
  {
   "cell_type": "code",
   "execution_count": 3,
   "id": "a983fa7b",
   "metadata": {},
   "outputs": [],
   "source": [
    "import pandas as pd\n",
    "import matplotlib.pyplot as plt\n",
    "import seaborn as sns\n",
    "from wordcloud import WordCloud\n",
    "import re\n",
    "import nltk\n",
    "from nltk.corpus import stopwords\n",
    "from nltk.stem import WordNetLemmatizer\n",
    "from sklearn.feature_extraction.text import CountVectorizer\n",
    "from sklearn.model_selection import GridSearchCV\n",
    "from sklearn.ensemble import RandomForestClassifier\n",
    "from sklearn.metrics import accuracy_score,precision_score,recall_score,confusion_matrix,roc_curve,classification_report\n",
    "# from scikitplot.metrics import plot_confusion_matrix"
   ]
  },
  {
   "cell_type": "code",
   "execution_count": 4,
   "id": "38954a3e",
   "metadata": {},
   "outputs": [
    {
     "data": {
      "text/plain": [
       "(      Text_ID                                Product_Description  \\\n",
       " 0        3057  The Web DesignerÛªs Guide to iOS (and Android...   \n",
       " 1        6254  RT @mention Line for iPad 2 is longer today th...   \n",
       " 2        8212  Crazy that Apple is opening a temporary store ...   \n",
       " 3        4422  The lesson from Google One Pass: In this digit...   \n",
       " 4        5526  RT @mention At the panel: &quot;Your mom has a...   \n",
       " ...       ...                                                ...   \n",
       " 6359     2945  Thanks @mention for hosting this event #sxsw #...   \n",
       " 6360     4528  SXSW iPhone app is awesome, but iPad app crash...   \n",
       " 6361     6526  RT @mention RT @mention Download 20+ free trac...   \n",
       " 6362     2110  OH at Texas Social Media Awards: 'You don't ne...   \n",
       " 6363     2177  #Google launching a &quot;major&quot; new soci...   \n",
       " \n",
       "       Product_Type  Sentiment  \n",
       " 0                9          2  \n",
       " 1                9          2  \n",
       " 2                9          2  \n",
       " 3                9          2  \n",
       " 4                9          2  \n",
       " ...            ...        ...  \n",
       " 6359             9          2  \n",
       " 6360             7          1  \n",
       " 6361             9          2  \n",
       " 6362             9          2  \n",
       " 6363             9          2  \n",
       " \n",
       " [6364 rows x 4 columns],\n",
       "       Text_ID                                Product_Description  Product_Type\n",
       " 0        5786  RT @mention Going to #SXSW? The new iPhone gui...             7\n",
       " 1        5363  RT @mention 95% of iPhone and Droid apps have ...             9\n",
       " 2        6716  RT @mention Thank you to @mention for letting ...             9\n",
       " 3        4339  #Thanks @mention we're lovin' the @mention app...             7\n",
       " 4          66  At #sxsw? @mention / @mention wanna buy you a ...             9\n",
       " ...       ...                                                ...           ...\n",
       " 2723     5705  RT @mention eww and LOL. RT @mention Just saw ...             9\n",
       " 2724     7556  Free 22 track #sxsw sampler album on iTunes. #...             9\n",
       " 2725     7302  Setting up for the Google #gsdm  #sxsw party. ...             3\n",
       " 2726     5286  RT @mention #SXSW Come see Bitbop in Austin #g...             9\n",
       " 2727     7047  So many Google products. isn't it time to  tra...             5\n",
       " \n",
       " [2728 rows x 3 columns])"
      ]
     },
     "execution_count": 4,
     "metadata": {},
     "output_type": "execute_result"
    }
   ],
   "source": [
    "train=pd.read_csv('Train_data.csv')\n",
    "test=pd.read_csv('Test_data.csv')\n",
    "train,test"
   ]
  },
  {
   "cell_type": "code",
   "execution_count": 5,
   "id": "1dcc2350",
   "metadata": {},
   "outputs": [
    {
     "data": {
      "text/plain": [
       "(array([ 111.,    0.,    0.,  399.,    0.,    0., 3765.,    0.,    0.,\n",
       "        2089.]),\n",
       " array([0. , 0.3, 0.6, 0.9, 1.2, 1.5, 1.8, 2.1, 2.4, 2.7, 3. ]),\n",
       " <BarContainer object of 10 artists>)"
      ]
     },
     "execution_count": 5,
     "metadata": {},
     "output_type": "execute_result"
    },
    {
     "data": {
      "image/png": "[encoded data removed]",
      "text/plain": [
       "<Figure size 640x480 with 1 Axes>"
      ]
     },
     "metadata": {},
     "output_type": "display_data"
    }
   ],
   "source": [
    "plt.hist(train['Sentiment'])"
   ]
  },
  {
   "cell_type": "code",
   "execution_count": 6,
   "id": "4ca725c0",
   "metadata": {},
   "outputs": [],
   "source": [
    "import re\n",
    "import string\n",
    "\n",
    "#This function converts to lower-case, removes square bracket, removes numbers and punctuation\n",
    "def text_clean_1(text):\n",
    "    text = text.lower()\n",
    "    text = re.sub('\\[.*?\\]', '', text)\n",
    "    text = re.sub(\"[^-9A-Za-z ]\", \"\" , text)\n",
    "    text = re.sub('[%s]' % re.escape(string.punctuation), '', text)\n",
    "    text = re.sub('\\w*\\d\\w*', '', text)\n",
    "    text = re.sub('[‘’“”…]', '', text)\n",
    "    text = re.sub('\\n', '', text)\n",
    "    return text\n",
    "\n",
    "cleaned = lambda x: text_clean_1(x)"
   ]
  },
  {
   "cell_type": "code",
   "execution_count": 7,
   "id": "760f7050",
   "metadata": {},
   "outputs": [
    {
     "data": {
      "text/html": [
       "<div>\n",
       "<style scoped>\n",
       "    .dataframe tbody tr th:only-of-type {\n",
       "        vertical-align: middle;\n",
       "    }\n",
       "\n",
       "    .dataframe tbody tr th {\n",
       "        vertical-align: top;\n",
       "    }\n",
       "\n",
       "    .dataframe thead th {\n",
       "        text-align: right;\n",
       "    }\n",
       "</style>\n",
       "<table border=\"1\" class=\"dataframe\">\n",
       "  <thead>\n",
       "    <tr style=\"text-align: right;\">\n",
       "      <th></th>\n",
       "      <th>Text_ID</th>\n",
       "      <th>Product_Description</th>\n",
       "      <th>Product_Type</th>\n",
       "      <th>Sentiment</th>\n",
       "    </tr>\n",
       "  </thead>\n",
       "  <tbody>\n",
       "    <tr>\n",
       "      <th>0</th>\n",
       "      <td>3057</td>\n",
       "      <td>the web designers guide to ios and android app...</td>\n",
       "      <td>9</td>\n",
       "      <td>2</td>\n",
       "    </tr>\n",
       "    <tr>\n",
       "      <th>1</th>\n",
       "      <td>6254</td>\n",
       "      <td>rt mention line for ipad  is longer today than...</td>\n",
       "      <td>9</td>\n",
       "      <td>2</td>\n",
       "    </tr>\n",
       "    <tr>\n",
       "      <th>2</th>\n",
       "      <td>8212</td>\n",
       "      <td>crazy that apple is opening a temporary store ...</td>\n",
       "      <td>9</td>\n",
       "      <td>2</td>\n",
       "    </tr>\n",
       "    <tr>\n",
       "      <th>3</th>\n",
       "      <td>4422</td>\n",
       "      <td>the lesson from google one pass in this digita...</td>\n",
       "      <td>9</td>\n",
       "      <td>2</td>\n",
       "    </tr>\n",
       "    <tr>\n",
       "      <th>4</th>\n",
       "      <td>5526</td>\n",
       "      <td>rt mention at the panel quotyour mom has an ip...</td>\n",
       "      <td>9</td>\n",
       "      <td>2</td>\n",
       "    </tr>\n",
       "    <tr>\n",
       "      <th>5</th>\n",
       "      <td>6064</td>\n",
       "      <td>rt mention i think my effing hubby is in line ...</td>\n",
       "      <td>6</td>\n",
       "      <td>1</td>\n",
       "    </tr>\n",
       "    <tr>\n",
       "      <th>6</th>\n",
       "      <td>7713</td>\n",
       "      <td>quotandroid users are not iphone users they us...</td>\n",
       "      <td>9</td>\n",
       "      <td>2</td>\n",
       "    </tr>\n",
       "    <tr>\n",
       "      <th>7</th>\n",
       "      <td>2975</td>\n",
       "      <td>wow rtmention we interrupt your regularly sche...</td>\n",
       "      <td>9</td>\n",
       "      <td>3</td>\n",
       "    </tr>\n",
       "    <tr>\n",
       "      <th>8</th>\n",
       "      <td>818</td>\n",
       "      <td>google to launch new social network called cir...</td>\n",
       "      <td>9</td>\n",
       "      <td>2</td>\n",
       "    </tr>\n",
       "    <tr>\n",
       "      <th>9</th>\n",
       "      <td>1318</td>\n",
       "      <td>mention  welcome enjoy sxsw and ride anywhere ...</td>\n",
       "      <td>9</td>\n",
       "      <td>2</td>\n",
       "    </tr>\n",
       "  </tbody>\n",
       "</table>\n",
       "</div>"
      ],
      "text/plain": [
       "   Text_ID                                Product_Description  Product_Type  \\\n",
       "0     3057  the web designers guide to ios and android app...             9   \n",
       "1     6254  rt mention line for ipad  is longer today than...             9   \n",
       "2     8212  crazy that apple is opening a temporary store ...             9   \n",
       "3     4422  the lesson from google one pass in this digita...             9   \n",
       "4     5526  rt mention at the panel quotyour mom has an ip...             9   \n",
       "5     6064  rt mention i think my effing hubby is in line ...             6   \n",
       "6     7713  quotandroid users are not iphone users they us...             9   \n",
       "7     2975  wow rtmention we interrupt your regularly sche...             9   \n",
       "8      818  google to launch new social network called cir...             9   \n",
       "9     1318  mention  welcome enjoy sxsw and ride anywhere ...             9   \n",
       "\n",
       "   Sentiment  \n",
       "0          2  \n",
       "1          2  \n",
       "2          2  \n",
       "3          2  \n",
       "4          2  \n",
       "5          1  \n",
       "6          2  \n",
       "7          3  \n",
       "8          2  \n",
       "9          2  "
      ]
     },
     "execution_count": 7,
     "metadata": {},
     "output_type": "execute_result"
    }
   ],
   "source": [
    "train['Product_Description'] = pd.DataFrame(train.Product_Description.apply(cleaned))\n",
    "train.head(10)"
   ]
  },
  {
   "cell_type": "code",
   "execution_count": 8,
   "id": "dd3e023b",
   "metadata": {},
   "outputs": [
    {
     "data": {
      "text/html": [
       "<div>\n",
       "<style scoped>\n",
       "    .dataframe tbody tr th:only-of-type {\n",
       "        vertical-align: middle;\n",
       "    }\n",
       "\n",
       "    .dataframe tbody tr th {\n",
       "        vertical-align: top;\n",
       "    }\n",
       "\n",
       "    .dataframe thead th {\n",
       "        text-align: right;\n",
       "    }\n",
       "</style>\n",
       "<table border=\"1\" class=\"dataframe\">\n",
       "  <thead>\n",
       "    <tr style=\"text-align: right;\">\n",
       "      <th></th>\n",
       "      <th>Text_ID</th>\n",
       "      <th>Product_Description</th>\n",
       "      <th>Product_Type</th>\n",
       "    </tr>\n",
       "  </thead>\n",
       "  <tbody>\n",
       "    <tr>\n",
       "      <th>0</th>\n",
       "      <td>5786</td>\n",
       "      <td>rt mention going to sxsw the new iphone guide ...</td>\n",
       "      <td>7</td>\n",
       "    </tr>\n",
       "    <tr>\n",
       "      <th>1</th>\n",
       "      <td>5363</td>\n",
       "      <td>rt mention  of iphone and droid apps have less...</td>\n",
       "      <td>9</td>\n",
       "    </tr>\n",
       "    <tr>\n",
       "      <th>2</th>\n",
       "      <td>6716</td>\n",
       "      <td>rt mention thank you to mention for letting me...</td>\n",
       "      <td>9</td>\n",
       "    </tr>\n",
       "    <tr>\n",
       "      <th>3</th>\n",
       "      <td>4339</td>\n",
       "      <td>thanks mention were lovin the mention app upda...</td>\n",
       "      <td>7</td>\n",
       "    </tr>\n",
       "    <tr>\n",
       "      <th>4</th>\n",
       "      <td>66</td>\n",
       "      <td>at sxsw mention  mention wanna buy you a drink...</td>\n",
       "      <td>9</td>\n",
       "    </tr>\n",
       "    <tr>\n",
       "      <th>5</th>\n",
       "      <td>8373</td>\n",
       "      <td>i just rated gsdampm idea city llc  stars ment...</td>\n",
       "      <td>9</td>\n",
       "    </tr>\n",
       "    <tr>\n",
       "      <th>6</th>\n",
       "      <td>4264</td>\n",
       "      <td>mention making new fans and friends i hope rt ...</td>\n",
       "      <td>9</td>\n",
       "    </tr>\n",
       "    <tr>\n",
       "      <th>7</th>\n",
       "      <td>1982</td>\n",
       "      <td>want a chance to win an ipad  while youre at s...</td>\n",
       "      <td>9</td>\n",
       "    </tr>\n",
       "    <tr>\n",
       "      <th>8</th>\n",
       "      <td>2258</td>\n",
       "      <td>mention be sure to use our free app for checki...</td>\n",
       "      <td>9</td>\n",
       "    </tr>\n",
       "    <tr>\n",
       "      <th>9</th>\n",
       "      <td>8828</td>\n",
       "      <td>free sxsw music sampler on itunes includes men...</td>\n",
       "      <td>4</td>\n",
       "    </tr>\n",
       "  </tbody>\n",
       "</table>\n",
       "</div>"
      ],
      "text/plain": [
       "   Text_ID                                Product_Description  Product_Type\n",
       "0     5786  rt mention going to sxsw the new iphone guide ...             7\n",
       "1     5363  rt mention  of iphone and droid apps have less...             9\n",
       "2     6716  rt mention thank you to mention for letting me...             9\n",
       "3     4339  thanks mention were lovin the mention app upda...             7\n",
       "4       66  at sxsw mention  mention wanna buy you a drink...             9\n",
       "5     8373  i just rated gsdampm idea city llc  stars ment...             9\n",
       "6     4264  mention making new fans and friends i hope rt ...             9\n",
       "7     1982  want a chance to win an ipad  while youre at s...             9\n",
       "8     2258  mention be sure to use our free app for checki...             9\n",
       "9     8828  free sxsw music sampler on itunes includes men...             4"
      ]
     },
     "execution_count": 8,
     "metadata": {},
     "output_type": "execute_result"
    }
   ],
   "source": [
    "test['Product_Description'] = pd.DataFrame(test.Product_Description.apply(cleaned))\n",
    "test.head(10)"
   ]
  },
  {
   "cell_type": "code",
   "execution_count": 9,
   "id": "445caf93",
   "metadata": {},
   "outputs": [],
   "source": [
    "from sklearn.model_selection import train_test_split\n",
    "\n",
    "x= train['Product_Description']\n",
    "y = train['Sentiment']\n",
    "\n",
    "x_train, x_test, y_train, y_test = train_test_split(x, y, test_size=0.20, random_state=42)"
   ]
  },
  {
   "cell_type": "code",
   "execution_count": 10,
   "id": "b54d433f",
   "metadata": {},
   "outputs": [
    {
     "name": "stdout",
     "output_type": "stream",
     "text": [
      "x_train : 5091\n",
      "x_test  : 1273\n",
      "y_train : 5091\n",
      "y_test  : 1273\n"
     ]
    }
   ],
   "source": [
    "print('x_train :', len(x_train))\n",
    "print('x_test  :', len(x_test))\n",
    "print('y_train :', len(y_train))\n",
    "print('y_test  :', len(y_test))"
   ]
  },
  {
   "cell_type": "code",
   "execution_count": 11,
   "id": "d5f16a1d",
   "metadata": {},
   "outputs": [],
   "source": [
    "from sklearn.feature_extraction.text import TfidfVectorizer\n",
    "from sklearn.linear_model import LogisticRegression\n",
    "\n",
    "tvec = TfidfVectorizer()\n",
    "clf2 = LogisticRegression(solver = \"lbfgs\")\n",
    "\n",
    "\n",
    "from sklearn.pipeline import Pipeline"
   ]
  },
  {
   "cell_type": "code",
   "execution_count": 12,
   "id": "0e65d98e",
   "metadata": {},
   "outputs": [
    {
     "data": {
      "text/plain": [
       "array([[  0,   0,   0,   0],\n",
       "       [  0,   3,   2,   0],\n",
       "       [ 24,  59, 680, 210],\n",
       "       [  3,  18,  90, 184]], dtype=int64)"
      ]
     },
     "execution_count": 12,
     "metadata": {},
     "output_type": "execute_result"
    }
   ],
   "source": [
    "model = Pipeline([('vectorizer',tvec),('classifier',clf2)])\n",
    "\n",
    "model.fit(x_train, y_train)\n",
    "\n",
    "\n",
    "from sklearn.metrics import confusion_matrix\n",
    "\n",
    "predictions = model.predict(x_test)\n",
    "\n",
    "confusion_matrix(predictions, y_test)"
   ]
  },
  {
   "cell_type": "code",
   "execution_count": 13,
   "id": "0a8411e2",
   "metadata": {},
   "outputs": [
    {
     "name": "stdout",
     "output_type": "stream",
     "text": [
      "Accuracy :  0.6810683424980362\n",
      "Precision :  0.7816187192350992\n",
      "Recall :  0.6810683424980362\n"
     ]
    },
    {
     "name": "stderr",
     "output_type": "stream",
     "text": [
      "C:\\Users\\Admin\\anaconda3\\lib\\site-packages\\sklearn\\metrics\\_classification.py:1318: UndefinedMetricWarning: Recall is ill-defined and being set to 0.0 in labels with no true samples. Use `zero_division` parameter to control this behavior.\n",
      "  _warn_prf(average, modifier, msg_start, len(result))\n"
     ]
    }
   ],
   "source": [
    "from sklearn.metrics import accuracy_score, precision_score, recall_score\n",
    "\n",
    "print(\"Accuracy : \", accuracy_score(predictions, y_test))\n",
    "print(\"Precision : \", precision_score(predictions, y_test, average = 'weighted'))\n",
    "print(\"Recall : \", recall_score(predictions, y_test, average = 'weighted'))"
   ]
  },
  {
   "cell_type": "code",
   "execution_count": 14,
   "id": "f62eef20",
   "metadata": {},
   "outputs": [
    {
     "name": "stdout",
     "output_type": "stream",
     "text": [
      "[2]\n"
     ]
    }
   ],
   "source": [
    "example = [\"happy\"]\n",
    "result = model.predict(example)\n",
    "\n",
    "print(result)"
   ]
  },
  {
   "cell_type": "code",
   "execution_count": 15,
   "id": "1496b057",
   "metadata": {},
   "outputs": [
    {
     "data": {
      "text/html": [
       "<div>\n",
       "<style scoped>\n",
       "    .dataframe tbody tr th:only-of-type {\n",
       "        vertical-align: middle;\n",
       "    }\n",
       "\n",
       "    .dataframe tbody tr th {\n",
       "        vertical-align: top;\n",
       "    }\n",
       "\n",
       "    .dataframe thead th {\n",
       "        text-align: right;\n",
       "    }\n",
       "</style>\n",
       "<table border=\"1\" class=\"dataframe\">\n",
       "  <thead>\n",
       "    <tr style=\"text-align: right;\">\n",
       "      <th></th>\n",
       "      <th>Text_ID</th>\n",
       "      <th>Product_Description</th>\n",
       "      <th>Product_Type</th>\n",
       "      <th>Sentiment</th>\n",
       "    </tr>\n",
       "  </thead>\n",
       "  <tbody>\n",
       "    <tr>\n",
       "      <th>0</th>\n",
       "      <td>5786</td>\n",
       "      <td>rt mention going to sxsw the new iphone guide ...</td>\n",
       "      <td>7</td>\n",
       "      <td>2</td>\n",
       "    </tr>\n",
       "    <tr>\n",
       "      <th>1</th>\n",
       "      <td>5363</td>\n",
       "      <td>rt mention  of iphone and droid apps have less...</td>\n",
       "      <td>9</td>\n",
       "      <td>3</td>\n",
       "    </tr>\n",
       "    <tr>\n",
       "      <th>2</th>\n",
       "      <td>6716</td>\n",
       "      <td>rt mention thank you to mention for letting me...</td>\n",
       "      <td>9</td>\n",
       "      <td>2</td>\n",
       "    </tr>\n",
       "    <tr>\n",
       "      <th>3</th>\n",
       "      <td>4339</td>\n",
       "      <td>thanks mention were lovin the mention app upda...</td>\n",
       "      <td>7</td>\n",
       "      <td>3</td>\n",
       "    </tr>\n",
       "    <tr>\n",
       "      <th>4</th>\n",
       "      <td>66</td>\n",
       "      <td>at sxsw mention  mention wanna buy you a drink...</td>\n",
       "      <td>9</td>\n",
       "      <td>2</td>\n",
       "    </tr>\n",
       "    <tr>\n",
       "      <th>...</th>\n",
       "      <td>...</td>\n",
       "      <td>...</td>\n",
       "      <td>...</td>\n",
       "      <td>...</td>\n",
       "    </tr>\n",
       "    <tr>\n",
       "      <th>2723</th>\n",
       "      <td>5705</td>\n",
       "      <td>rt mention eww and lol rt mention just saw a g...</td>\n",
       "      <td>9</td>\n",
       "      <td>2</td>\n",
       "    </tr>\n",
       "    <tr>\n",
       "      <th>2724</th>\n",
       "      <td>7556</td>\n",
       "      <td>free  track sxsw sampler album on itunes music...</td>\n",
       "      <td>9</td>\n",
       "      <td>2</td>\n",
       "    </tr>\n",
       "    <tr>\n",
       "      <th>2725</th>\n",
       "      <td>7302</td>\n",
       "      <td>setting up for the google gsdm  sxsw party its...</td>\n",
       "      <td>3</td>\n",
       "      <td>2</td>\n",
       "    </tr>\n",
       "    <tr>\n",
       "      <th>2726</th>\n",
       "      <td>5286</td>\n",
       "      <td>rt mention sxsw come see bitbop in austin gdgt...</td>\n",
       "      <td>9</td>\n",
       "      <td>2</td>\n",
       "    </tr>\n",
       "    <tr>\n",
       "      <th>2727</th>\n",
       "      <td>7047</td>\n",
       "      <td>so many google products isnt it time to  trans...</td>\n",
       "      <td>5</td>\n",
       "      <td>2</td>\n",
       "    </tr>\n",
       "  </tbody>\n",
       "</table>\n",
       "<p>2728 rows × 4 columns</p>\n",
       "</div>"
      ],
      "text/plain": [
       "      Text_ID                                Product_Description  \\\n",
       "0        5786  rt mention going to sxsw the new iphone guide ...   \n",
       "1        5363  rt mention  of iphone and droid apps have less...   \n",
       "2        6716  rt mention thank you to mention for letting me...   \n",
       "3        4339  thanks mention were lovin the mention app upda...   \n",
       "4          66  at sxsw mention  mention wanna buy you a drink...   \n",
       "...       ...                                                ...   \n",
       "2723     5705  rt mention eww and lol rt mention just saw a g...   \n",
       "2724     7556  free  track sxsw sampler album on itunes music...   \n",
       "2725     7302  setting up for the google gsdm  sxsw party its...   \n",
       "2726     5286  rt mention sxsw come see bitbop in austin gdgt...   \n",
       "2727     7047  so many google products isnt it time to  trans...   \n",
       "\n",
       "      Product_Type  Sentiment  \n",
       "0                7          2  \n",
       "1                9          3  \n",
       "2                9          2  \n",
       "3                7          3  \n",
       "4                9          2  \n",
       "...            ...        ...  \n",
       "2723             9          2  \n",
       "2724             9          2  \n",
       "2725             3          2  \n",
       "2726             9          2  \n",
       "2727             5          2  \n",
       "\n",
       "[2728 rows x 4 columns]"
      ]
     },
     "execution_count": 15,
     "metadata": {},
     "output_type": "execute_result"
    }
   ],
   "source": [
    "test['Sentiment']= model.predict(test.Product_Description)\n",
    "test"
   ]
  },
  {
   "cell_type": "code",
   "execution_count": 16,
   "id": "39144e74",
   "metadata": {},
   "outputs": [
    {
     "data": {
      "text/html": [
       "<div>\n",
       "<style scoped>\n",
       "    .dataframe tbody tr th:only-of-type {\n",
       "        vertical-align: middle;\n",
       "    }\n",
       "\n",
       "    .dataframe tbody tr th {\n",
       "        vertical-align: top;\n",
       "    }\n",
       "\n",
       "    .dataframe thead th {\n",
       "        text-align: right;\n",
       "    }\n",
       "</style>\n",
       "<table border=\"1\" class=\"dataframe\">\n",
       "  <thead>\n",
       "    <tr style=\"text-align: right;\">\n",
       "      <th></th>\n",
       "      <th>0</th>\n",
       "      <th>1</th>\n",
       "      <th>2</th>\n",
       "      <th>3</th>\n",
       "    </tr>\n",
       "  </thead>\n",
       "  <tbody>\n",
       "    <tr>\n",
       "      <th>0</th>\n",
       "      <td>0.022477</td>\n",
       "      <td>0.08447</td>\n",
       "      <td>0.614442</td>\n",
       "      <td>0.278612</td>\n",
       "    </tr>\n",
       "    <tr>\n",
       "      <th>1</th>\n",
       "      <td>0.022477</td>\n",
       "      <td>0.08447</td>\n",
       "      <td>0.614442</td>\n",
       "      <td>0.278612</td>\n",
       "    </tr>\n",
       "    <tr>\n",
       "      <th>2</th>\n",
       "      <td>0.022477</td>\n",
       "      <td>0.08447</td>\n",
       "      <td>0.614442</td>\n",
       "      <td>0.278612</td>\n",
       "    </tr>\n",
       "    <tr>\n",
       "      <th>3</th>\n",
       "      <td>0.022477</td>\n",
       "      <td>0.08447</td>\n",
       "      <td>0.614442</td>\n",
       "      <td>0.278612</td>\n",
       "    </tr>\n",
       "  </tbody>\n",
       "</table>\n",
       "</div>"
      ],
      "text/plain": [
       "          0        1         2         3\n",
       "0  0.022477  0.08447  0.614442  0.278612\n",
       "1  0.022477  0.08447  0.614442  0.278612\n",
       "2  0.022477  0.08447  0.614442  0.278612\n",
       "3  0.022477  0.08447  0.614442  0.278612"
      ]
     },
     "execution_count": 16,
     "metadata": {},
     "output_type": "execute_result"
    }
   ],
   "source": [
    "submission = pd.DataFrame( model.predict_proba(test))\n",
    "submission.head()"
   ]
  },
  {
   "cell_type": "code",
   "execution_count": 17,
   "id": "81ec8579",
   "metadata": {},
   "outputs": [],
   "source": [
    "submission.to_csv('sample_submission.csv',index=False)"
   ]
  },
  {
   "cell_type": "code",
   "execution_count": 18,
   "id": "71c4407c",
   "metadata": {},
   "outputs": [
    {
     "data": {
      "text/html": [
       "<div>\n",
       "<style scoped>\n",
       "    .dataframe tbody tr th:only-of-type {\n",
       "        vertical-align: middle;\n",
       "    }\n",
       "\n",
       "    .dataframe tbody tr th {\n",
       "        vertical-align: top;\n",
       "    }\n",
       "\n",
       "    .dataframe thead th {\n",
       "        text-align: right;\n",
       "    }\n",
       "</style>\n",
       "<table border=\"1\" class=\"dataframe\">\n",
       "  <thead>\n",
       "    <tr style=\"text-align: right;\">\n",
       "      <th></th>\n",
       "      <th>0</th>\n",
       "      <th>1</th>\n",
       "      <th>2</th>\n",
       "      <th>3</th>\n",
       "    </tr>\n",
       "  </thead>\n",
       "  <tbody>\n",
       "    <tr>\n",
       "      <th>0</th>\n",
       "      <td>0.022477</td>\n",
       "      <td>0.08447</td>\n",
       "      <td>0.614442</td>\n",
       "      <td>0.278612</td>\n",
       "    </tr>\n",
       "    <tr>\n",
       "      <th>1</th>\n",
       "      <td>0.022477</td>\n",
       "      <td>0.08447</td>\n",
       "      <td>0.614442</td>\n",
       "      <td>0.278612</td>\n",
       "    </tr>\n",
       "    <tr>\n",
       "      <th>2</th>\n",
       "      <td>0.022477</td>\n",
       "      <td>0.08447</td>\n",
       "      <td>0.614442</td>\n",
       "      <td>0.278612</td>\n",
       "    </tr>\n",
       "    <tr>\n",
       "      <th>3</th>\n",
       "      <td>0.022477</td>\n",
       "      <td>0.08447</td>\n",
       "      <td>0.614442</td>\n",
       "      <td>0.278612</td>\n",
       "    </tr>\n",
       "  </tbody>\n",
       "</table>\n",
       "</div>"
      ],
      "text/plain": [
       "          0        1         2         3\n",
       "0  0.022477  0.08447  0.614442  0.278612\n",
       "1  0.022477  0.08447  0.614442  0.278612\n",
       "2  0.022477  0.08447  0.614442  0.278612\n",
       "3  0.022477  0.08447  0.614442  0.278612"
      ]
     },
     "execution_count": 18,
     "metadata": {},
     "output_type": "execute_result"
    }
   ],
   "source": [
    "pd.read_csv(\"sample_submission.csv\")"
   ]
  },
  {
   "cell_type": "code",
   "execution_count": null,
   "id": "a6831cb2",
   "metadata": {},
   "outputs": [],
   "source": []
  }
 ],
 "metadata": {
  "kernelspec": {
   "display_name": "Python 3 (ipykernel)",
   "language": "python",
   "name": "python3"
  },
  "language_info": {
   "codemirror_mode": {
    "name": "ipython",
    "version": 3
   },
   "file_extension": ".py",
   "mimetype": "text/x-python",
   "name": "python",
   "nbconvert_exporter": "python",
   "pygments_lexer": "ipython3",
   "version": "3.9.13"
  }
 },
 "nbformat": 4,
 "nbformat_minor": 5
}
